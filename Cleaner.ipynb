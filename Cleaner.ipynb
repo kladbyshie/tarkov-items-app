{
 "cells": [
  {
   "cell_type": "code",
   "execution_count": 2,
   "metadata": {},
   "outputs": [],
   "source": [
    "import pandas as pd\n",
    "import re\n",
    "import ast"
   ]
  },
  {
   "cell_type": "code",
   "execution_count": 3,
   "metadata": {},
   "outputs": [],
   "source": [
    "df = pd.read_csv('scrapyoutput.csv')"
   ]
  },
  {
   "cell_type": "code",
   "execution_count": 4,
   "metadata": {
    "scrolled": false
   },
   "outputs": [
    {
     "data": {
      "text/html": [
       "<div>\n",
       "<style scoped>\n",
       "    .dataframe tbody tr th:only-of-type {\n",
       "        vertical-align: middle;\n",
       "    }\n",
       "\n",
       "    .dataframe tbody tr th {\n",
       "        vertical-align: top;\n",
       "    }\n",
       "\n",
       "    .dataframe thead th {\n",
       "        text-align: right;\n",
       "    }\n",
       "</style>\n",
       "<table border=\"1\" class=\"dataframe\">\n",
       "  <thead>\n",
       "    <tr style=\"text-align: right;\">\n",
       "      <th></th>\n",
       "      <th>dealer</th>\n",
       "      <th>name</th>\n",
       "      <th>reward</th>\n",
       "    </tr>\n",
       "  </thead>\n",
       "  <tbody>\n",
       "    <tr>\n",
       "      <td>0</td>\n",
       "      <td>NaN</td>\n",
       "      <td>Trade\\n</td>\n",
       "      <td>NaN</td>\n",
       "    </tr>\n",
       "    <tr>\n",
       "      <td>1</td>\n",
       "      <td>Prapor LL1</td>\n",
       "      <td>x5,T-Shaped Plug,\\n</td>\n",
       "      <td>Submachinegun 19-01 Vityaz-SN 9x19</td>\n",
       "    </tr>\n",
       "    <tr>\n",
       "      <td>2</td>\n",
       "      <td>Prapor LL1</td>\n",
       "      <td>x1\\n,Clin wiper,\\n,\\n</td>\n",
       "      <td>30 pcs. 5.45x39 BP gs ammo pack</td>\n",
       "    </tr>\n",
       "    <tr>\n",
       "      <td>3</td>\n",
       "      <td>Prapor LL1</td>\n",
       "      <td>x1\\n,Can of delicious beef stew,\\n,\\n</td>\n",
       "      <td>30 pcs. 5.45x39 BT gs ammo pack</td>\n",
       "    </tr>\n",
       "    <tr>\n",
       "      <td>4</td>\n",
       "      <td>Prapor LL1</td>\n",
       "      <td>x2\\n,Spark plug,\\n,\\n</td>\n",
       "      <td>Zenit-Belomo PSO 1M2-1 4x24 scope</td>\n",
       "    </tr>\n",
       "  </tbody>\n",
       "</table>\n",
       "</div>"
      ],
      "text/plain": [
       "       dealer                                    name  \\\n",
       "0         NaN                                 Trade\\n   \n",
       "1  Prapor LL1                     x5,T-Shaped Plug,\\n   \n",
       "2  Prapor LL1                   x1\\n,Clin wiper,\\n,\\n   \n",
       "3  Prapor LL1   x1\\n,Can of delicious beef stew,\\n,\\n   \n",
       "4  Prapor LL1                   x2\\n,Spark plug,\\n,\\n   \n",
       "\n",
       "                               reward  \n",
       "0                                 NaN  \n",
       "1  Submachinegun 19-01 Vityaz-SN 9x19  \n",
       "2     30 pcs. 5.45x39 BP gs ammo pack  \n",
       "3     30 pcs. 5.45x39 BT gs ammo pack  \n",
       "4   Zenit-Belomo PSO 1M2-1 4x24 scope  "
      ]
     },
     "execution_count": 4,
     "metadata": {},
     "output_type": "execute_result"
    }
   ],
   "source": [
    "df.head()"
   ]
  },
  {
   "cell_type": "code",
   "execution_count": 5,
   "metadata": {
    "scrolled": true
   },
   "outputs": [
    {
     "data": {
      "text/html": [
       "<div>\n",
       "<style scoped>\n",
       "    .dataframe tbody tr th:only-of-type {\n",
       "        vertical-align: middle;\n",
       "    }\n",
       "\n",
       "    .dataframe tbody tr th {\n",
       "        vertical-align: top;\n",
       "    }\n",
       "\n",
       "    .dataframe thead th {\n",
       "        text-align: right;\n",
       "    }\n",
       "</style>\n",
       "<table border=\"1\" class=\"dataframe\">\n",
       "  <thead>\n",
       "    <tr style=\"text-align: right;\">\n",
       "      <th></th>\n",
       "      <th>dealer</th>\n",
       "      <th>name</th>\n",
       "      <th>reward</th>\n",
       "      <th>newname</th>\n",
       "    </tr>\n",
       "  </thead>\n",
       "  <tbody>\n",
       "    <tr>\n",
       "      <td>0</td>\n",
       "      <td>NaN</td>\n",
       "      <td>Trade\\n</td>\n",
       "      <td>NaN</td>\n",
       "      <td>[Trade]</td>\n",
       "    </tr>\n",
       "    <tr>\n",
       "      <td>1</td>\n",
       "      <td>Prapor LL1</td>\n",
       "      <td>x5,T-Shaped Plug,\\n</td>\n",
       "      <td>Submachinegun 19-01 Vityaz-SN 9x19</td>\n",
       "      <td>[x5, T-Shaped Plug]</td>\n",
       "    </tr>\n",
       "    <tr>\n",
       "      <td>2</td>\n",
       "      <td>Prapor LL1</td>\n",
       "      <td>x1\\n,Clin wiper,\\n,\\n</td>\n",
       "      <td>30 pcs. 5.45x39 BP gs ammo pack</td>\n",
       "      <td>[x1, Clin wiper]</td>\n",
       "    </tr>\n",
       "    <tr>\n",
       "      <td>3</td>\n",
       "      <td>Prapor LL1</td>\n",
       "      <td>x1\\n,Can of delicious beef stew,\\n,\\n</td>\n",
       "      <td>30 pcs. 5.45x39 BT gs ammo pack</td>\n",
       "      <td>[x1, Can of delicious beef stew]</td>\n",
       "    </tr>\n",
       "    <tr>\n",
       "      <td>4</td>\n",
       "      <td>Prapor LL1</td>\n",
       "      <td>x2\\n,Spark plug,\\n,\\n</td>\n",
       "      <td>Zenit-Belomo PSO 1M2-1 4x24 scope</td>\n",
       "      <td>[x2, Spark plug]</td>\n",
       "    </tr>\n",
       "  </tbody>\n",
       "</table>\n",
       "</div>"
      ],
      "text/plain": [
       "       dealer                                    name  \\\n",
       "0         NaN                                 Trade\\n   \n",
       "1  Prapor LL1                     x5,T-Shaped Plug,\\n   \n",
       "2  Prapor LL1                   x1\\n,Clin wiper,\\n,\\n   \n",
       "3  Prapor LL1   x1\\n,Can of delicious beef stew,\\n,\\n   \n",
       "4  Prapor LL1                   x2\\n,Spark plug,\\n,\\n   \n",
       "\n",
       "                               reward                           newname  \n",
       "0                                 NaN                           [Trade]  \n",
       "1  Submachinegun 19-01 Vityaz-SN 9x19               [x5, T-Shaped Plug]  \n",
       "2     30 pcs. 5.45x39 BP gs ammo pack                  [x1, Clin wiper]  \n",
       "3     30 pcs. 5.45x39 BT gs ammo pack  [x1, Can of delicious beef stew]  \n",
       "4   Zenit-Belomo PSO 1M2-1 4x24 scope                  [x2, Spark plug]  "
      ]
     },
     "execution_count": 5,
     "metadata": {},
     "output_type": "execute_result"
    }
   ],
   "source": [
    "fullresult = []\n",
    "for thingy in df['name']:\n",
    "    splitstring = re.split(',' ,thingy)\n",
    "    result = []\n",
    "    for item in splitstring:\n",
    "        newitem = re.sub('\\n','', item)\n",
    "        xtest = re.compile(r' x\\d')\n",
    "        if len(xtest.findall(newitem)) > 0:\n",
    "            newitem = newitem[1:]\n",
    "        if len(newitem) > 1 and newitem is not '+':\n",
    "            result.append(newitem)\n",
    "    fullresult.append(result)\n",
    "df['newname'] = fullresult\n",
    "df.head()"
   ]
  },
  {
   "cell_type": "code",
   "execution_count": 6,
   "metadata": {},
   "outputs": [],
   "source": [
    "df.to_csv('scrapyoutput2.csv')"
   ]
  }
 ],
 "metadata": {
  "kernelspec": {
   "display_name": "Python 3",
   "language": "python",
   "name": "python3"
  },
  "language_info": {
   "codemirror_mode": {
    "name": "ipython",
    "version": 3
   },
   "file_extension": ".py",
   "mimetype": "text/x-python",
   "name": "python",
   "nbconvert_exporter": "python",
   "pygments_lexer": "ipython3",
   "version": "3.7.4"
  }
 },
 "nbformat": 4,
 "nbformat_minor": 2
}
